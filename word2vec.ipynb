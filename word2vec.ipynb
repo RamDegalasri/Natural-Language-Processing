{
  "nbformat": 4,
  "nbformat_minor": 0,
  "metadata": {
    "colab": {
      "provenance": [],
      "authorship_tag": "ABX9TyMJfC4/2q0NTDwFGsyznolc",
      "include_colab_link": true
    },
    "kernelspec": {
      "name": "python3",
      "display_name": "Python 3"
    },
    "language_info": {
      "name": "python"
    }
  },
  "cells": [
    {
      "cell_type": "markdown",
      "metadata": {
        "id": "view-in-github",
        "colab_type": "text"
      },
      "source": [
        "<a href=\"https://colab.research.google.com/github/RamDegalasri/Natural-Language-Processing/blob/main/word2vec.ipynb\" target=\"_parent\"><img src=\"https://colab.research.google.com/assets/colab-badge.svg\" alt=\"Open In Colab\"/></a>"
      ]
    },
    {
      "cell_type": "code",
      "execution_count": 1,
      "metadata": {
        "id": "9vH178ShM1sV"
      },
      "outputs": [],
      "source": [
        "import nltk\n",
        "from gensim.models import Word2Vec\n",
        "from nltk.corpus import stopwords\n",
        "import re"
      ]
    },
    {
      "cell_type": "code",
      "source": [
        "nltk.download('punkt')\n",
        "nltk.download('stopwords')\n",
        "nltk.download('wordnet')"
      ],
      "metadata": {
        "colab": {
          "base_uri": "https://localhost:8080/"
        },
        "id": "eAYaf_zxN44j",
        "outputId": "4014e99d-db5d-481a-971a-a4ffa548a468"
      },
      "execution_count": 2,
      "outputs": [
        {
          "output_type": "stream",
          "name": "stderr",
          "text": [
            "[nltk_data] Downloading package punkt to /root/nltk_data...\n",
            "[nltk_data]   Package punkt is already up-to-date!\n",
            "[nltk_data] Downloading package stopwords to /root/nltk_data...\n",
            "[nltk_data]   Package stopwords is already up-to-date!\n",
            "[nltk_data] Downloading package wordnet to /root/nltk_data...\n",
            "[nltk_data]   Package wordnet is already up-to-date!\n"
          ]
        },
        {
          "output_type": "execute_result",
          "data": {
            "text/plain": [
              "True"
            ]
          },
          "metadata": {},
          "execution_count": 2
        }
      ]
    },
    {
      "cell_type": "code",
      "source": [
        "text = \"\"\"I have three visions for India. In 3000 years of our history, people from all over\n",
        "               the world have come and invaded us, captured our lands, conquered our minds.\n",
        "               From Alexander onwards, the Greeks, the Turks, the Moguls, the Portuguese, the British,\n",
        "               the French, the Dutch, all of them came and looted us, took over what was ours.\n",
        "               Yet we have not done this to any other nation. We have not conquered anyone.\n",
        "               We have not grabbed their land, their culture,\n",
        "               their history and tried to enforce our way of life on them.\n",
        "               Why? Because we respect the freedom of others.That is why my\n",
        "               first vision is that of freedom. I believe that India got its first vision of\n",
        "               this in 1857, when we started the War of Independence. It is this freedom that\n",
        "               we must protect and nurture and build on. If we are not free, no one will respect us.\n",
        "               My second vision for India’s development. For fifty years we have been a developing nation.\n",
        "               It is time we see ourselves as a developed nation. We are among the top 5 nations of the world\n",
        "               in terms of GDP. We have a 10 percent growth rate in most areas. Our poverty levels are falling.\n",
        "               Our achievements are being globally recognised today. Yet we lack the self-confidence to\n",
        "               see ourselves as a developed nation, self-reliant and self-assured. Isn’t this incorrect?\n",
        "               I have a third vision. India must stand up to the world. Because I believe that unless India\n",
        "               stands up to the world, no one will respect us. Only strength respects strength. We must be\n",
        "               strong not only as a military power but also as an economic power. Both must go hand-in-hand.\n",
        "               My good fortune was to have worked with three great minds. Dr. Vikram Sarabhai of the Dept. of\n",
        "               space, Professor Satish Dhawan, who succeeded him and Dr. Brahm Prakash, father of nuclear material.\n",
        "               I was lucky to have worked with all three of them closely and consider this the great opportunity of my life.\n",
        "               I see four milestones in my career\"\"\""
      ],
      "metadata": {
        "id": "BSQM84j1N_HV"
      },
      "execution_count": 3,
      "outputs": []
    },
    {
      "cell_type": "code",
      "source": [
        "text = re.sub(r'\\[[0-9]*]', ' ', text)\n",
        "text = re.sub(r'\\s+', ' ', text)\n",
        "text = text.lower()\n",
        "text = re.sub(r'\\d', ' ', text)\n",
        "text = re.sub(r'\\s+', ' ', text)"
      ],
      "metadata": {
        "id": "hPiINuNBOIAa"
      },
      "execution_count": 4,
      "outputs": []
    },
    {
      "cell_type": "code",
      "source": [
        "text"
      ],
      "metadata": {
        "colab": {
          "base_uri": "https://localhost:8080/",
          "height": 105
        },
        "id": "CXQphhIxO0gS",
        "outputId": "976f397a-7446-4946-9d69-630402b0ce59"
      },
      "execution_count": 5,
      "outputs": [
        {
          "output_type": "execute_result",
          "data": {
            "text/plain": [
              "'i have three visions for india. in years of our history, people from all over the world have come and invaded us, captured our lands, conquered our minds. from alexander onwards, the greeks, the turks, the moguls, the portuguese, the british, the french, the dutch, all of them came and looted us, took over what was ours. yet we have not done this to any other nation. we have not conquered anyone. we have not grabbed their land, their culture, their history and tried to enforce our way of life on them. why? because we respect the freedom of others.that is why my first vision is that of freedom. i believe that india got its first vision of this in , when we started the war of independence. it is this freedom that we must protect and nurture and build on. if we are not free, no one will respect us. my second vision for india’s development. for fifty years we have been a developing nation. it is time we see ourselves as a developed nation. we are among the top nations of the world in terms of gdp. we have a percent growth rate in most areas. our poverty levels are falling. our achievements are being globally recognised today. yet we lack the self-confidence to see ourselves as a developed nation, self-reliant and self-assured. isn’t this incorrect? i have a third vision. india must stand up to the world. because i believe that unless india stands up to the world, no one will respect us. only strength respects strength. we must be strong not only as a military power but also as an economic power. both must go hand-in-hand. my good fortune was to have worked with three great minds. dr. vikram sarabhai of the dept. of space, professor satish dhawan, who succeeded him and dr. brahm prakash, father of nuclear material. i was lucky to have worked with all three of them closely and consider this the great opportunity of my life. i see four milestones in my career'"
            ],
            "application/vnd.google.colaboratory.intrinsic+json": {
              "type": "string"
            }
          },
          "metadata": {},
          "execution_count": 5
        }
      ]
    },
    {
      "cell_type": "code",
      "source": [
        "sentences = nltk.sent_tokenize(text)"
      ],
      "metadata": {
        "id": "gHUmYO6nPI8Q"
      },
      "execution_count": 6,
      "outputs": []
    },
    {
      "cell_type": "code",
      "source": [
        "sentences = [nltk.word_tokenize(sentence) for sentence in sentences]"
      ],
      "metadata": {
        "id": "1DMNI9VgPqBu"
      },
      "execution_count": 7,
      "outputs": []
    },
    {
      "cell_type": "code",
      "source": [
        "for i in range(len(sentences)):\n",
        "  sentences[i] = [word for word in sentences[i] if word not in stopwords.words('english')]"
      ],
      "metadata": {
        "id": "fTw9iorYQHZg"
      },
      "execution_count": 8,
      "outputs": []
    },
    {
      "cell_type": "code",
      "source": [
        "# sentences"
      ],
      "metadata": {
        "id": "SfBNCgAfQX_I"
      },
      "execution_count": 9,
      "outputs": []
    },
    {
      "cell_type": "code",
      "source": [
        "model = Word2Vec(sentences, min_count = 1)"
      ],
      "metadata": {
        "id": "f1sjxKEnQ7Eb"
      },
      "execution_count": 10,
      "outputs": []
    },
    {
      "cell_type": "code",
      "source": [
        "words = model.wv.index_to_key"
      ],
      "metadata": {
        "id": "n34ja46YRPpd"
      },
      "execution_count": 11,
      "outputs": []
    },
    {
      "cell_type": "code",
      "source": [
        "words"
      ],
      "metadata": {
        "colab": {
          "base_uri": "https://localhost:8080/"
        },
        "id": "FNpyb1mcRWxm",
        "outputId": "34910411-ea50-4ac5-d3b9-3c3ff8d17236"
      },
      "execution_count": 12,
      "outputs": [
        {
          "output_type": "execute_result",
          "data": {
            "text/plain": [
              "['.',\n",
              " ',',\n",
              " 'india',\n",
              " 'vision',\n",
              " 'must',\n",
              " 'nation',\n",
              " 'world',\n",
              " 'us',\n",
              " 'three',\n",
              " 'freedom',\n",
              " 'respect',\n",
              " 'see',\n",
              " 'first',\n",
              " 'power',\n",
              " 'yet',\n",
              " '’',\n",
              " 'strength',\n",
              " 'worked',\n",
              " '?',\n",
              " 'life',\n",
              " 'believe',\n",
              " 'dr.',\n",
              " 'great',\n",
              " 'minds',\n",
              " 'one',\n",
              " 'years',\n",
              " 'history',\n",
              " 'developed',\n",
              " 'conquered',\n",
              " 'protect',\n",
              " 'others.that',\n",
              " 'war',\n",
              " 'nurture',\n",
              " 'independence',\n",
              " 'build',\n",
              " 'free',\n",
              " 'tried',\n",
              " 'got',\n",
              " 'started',\n",
              " 'way',\n",
              " 'enforce',\n",
              " 'took',\n",
              " 'culture',\n",
              " 'turks',\n",
              " 'visions',\n",
              " 'people',\n",
              " 'come',\n",
              " 'invaded',\n",
              " 'captured',\n",
              " 'lands',\n",
              " 'alexander',\n",
              " 'onwards',\n",
              " 'greeks',\n",
              " 'moguls',\n",
              " 'land',\n",
              " 'portuguese',\n",
              " 'british',\n",
              " 'french',\n",
              " 'dutch',\n",
              " 'came',\n",
              " 'looted',\n",
              " 'done',\n",
              " 'anyone',\n",
              " 'grabbed',\n",
              " 'second',\n",
              " 'career',\n",
              " 'development',\n",
              " 'respects',\n",
              " 'military',\n",
              " 'also',\n",
              " 'economic',\n",
              " 'go',\n",
              " 'hand-in-hand',\n",
              " 'good',\n",
              " 'fortune',\n",
              " 'vikram',\n",
              " 'sarabhai',\n",
              " 'dept',\n",
              " 'space',\n",
              " 'professor',\n",
              " 'satish',\n",
              " 'dhawan',\n",
              " 'succeeded',\n",
              " 'brahm',\n",
              " 'prakash',\n",
              " 'father',\n",
              " 'nuclear',\n",
              " 'material',\n",
              " 'lucky',\n",
              " 'closely',\n",
              " 'consider',\n",
              " 'opportunity',\n",
              " 'four',\n",
              " 'strong',\n",
              " 'stands',\n",
              " 'fifty',\n",
              " 'unless',\n",
              " 'developing',\n",
              " 'milestones',\n",
              " 'among',\n",
              " 'top',\n",
              " 'nations',\n",
              " 'terms',\n",
              " 'gdp',\n",
              " 'percent',\n",
              " 'growth',\n",
              " 'rate',\n",
              " 'areas',\n",
              " 'poverty',\n",
              " 'levels',\n",
              " 'falling',\n",
              " 'achievements',\n",
              " 'globally',\n",
              " 'recognised',\n",
              " 'today',\n",
              " 'lack',\n",
              " 'self-confidence',\n",
              " 'self-reliant',\n",
              " 'self-assured',\n",
              " 'incorrect',\n",
              " 'third',\n",
              " 'stand',\n",
              " 'time']"
            ]
          },
          "metadata": {},
          "execution_count": 12
        }
      ]
    },
    {
      "cell_type": "code",
      "source": [
        "vocab = {}\n",
        "\n",
        "for idx, word in enumerate(model.wv.index_to_key):\n",
        "    vocab[word] = idx"
      ],
      "metadata": {
        "id": "SsJ5Nmz0UP47"
      },
      "execution_count": 15,
      "outputs": []
    },
    {
      "cell_type": "code",
      "source": [
        "vocab"
      ],
      "metadata": {
        "id": "ZsPeMgKgUlKY",
        "outputId": "3d718ca4-7235-44de-d0ad-0dc6c24d9bef",
        "colab": {
          "base_uri": "https://localhost:8080/"
        }
      },
      "execution_count": 16,
      "outputs": [
        {
          "output_type": "execute_result",
          "data": {
            "text/plain": [
              "{'.': 0,\n",
              " ',': 1,\n",
              " 'india': 2,\n",
              " 'vision': 3,\n",
              " 'must': 4,\n",
              " 'nation': 5,\n",
              " 'world': 6,\n",
              " 'us': 7,\n",
              " 'three': 8,\n",
              " 'freedom': 9,\n",
              " 'respect': 10,\n",
              " 'see': 11,\n",
              " 'first': 12,\n",
              " 'power': 13,\n",
              " 'yet': 14,\n",
              " '’': 15,\n",
              " 'strength': 16,\n",
              " 'worked': 17,\n",
              " '?': 18,\n",
              " 'life': 19,\n",
              " 'believe': 20,\n",
              " 'dr.': 21,\n",
              " 'great': 22,\n",
              " 'minds': 23,\n",
              " 'one': 24,\n",
              " 'years': 25,\n",
              " 'history': 26,\n",
              " 'developed': 27,\n",
              " 'conquered': 28,\n",
              " 'protect': 29,\n",
              " 'others.that': 30,\n",
              " 'war': 31,\n",
              " 'nurture': 32,\n",
              " 'independence': 33,\n",
              " 'build': 34,\n",
              " 'free': 35,\n",
              " 'tried': 36,\n",
              " 'got': 37,\n",
              " 'started': 38,\n",
              " 'way': 39,\n",
              " 'enforce': 40,\n",
              " 'took': 41,\n",
              " 'culture': 42,\n",
              " 'turks': 43,\n",
              " 'visions': 44,\n",
              " 'people': 45,\n",
              " 'come': 46,\n",
              " 'invaded': 47,\n",
              " 'captured': 48,\n",
              " 'lands': 49,\n",
              " 'alexander': 50,\n",
              " 'onwards': 51,\n",
              " 'greeks': 52,\n",
              " 'moguls': 53,\n",
              " 'land': 54,\n",
              " 'portuguese': 55,\n",
              " 'british': 56,\n",
              " 'french': 57,\n",
              " 'dutch': 58,\n",
              " 'came': 59,\n",
              " 'looted': 60,\n",
              " 'done': 61,\n",
              " 'anyone': 62,\n",
              " 'grabbed': 63,\n",
              " 'second': 64,\n",
              " 'career': 65,\n",
              " 'development': 66,\n",
              " 'respects': 67,\n",
              " 'military': 68,\n",
              " 'also': 69,\n",
              " 'economic': 70,\n",
              " 'go': 71,\n",
              " 'hand-in-hand': 72,\n",
              " 'good': 73,\n",
              " 'fortune': 74,\n",
              " 'vikram': 75,\n",
              " 'sarabhai': 76,\n",
              " 'dept': 77,\n",
              " 'space': 78,\n",
              " 'professor': 79,\n",
              " 'satish': 80,\n",
              " 'dhawan': 81,\n",
              " 'succeeded': 82,\n",
              " 'brahm': 83,\n",
              " 'prakash': 84,\n",
              " 'father': 85,\n",
              " 'nuclear': 86,\n",
              " 'material': 87,\n",
              " 'lucky': 88,\n",
              " 'closely': 89,\n",
              " 'consider': 90,\n",
              " 'opportunity': 91,\n",
              " 'four': 92,\n",
              " 'strong': 93,\n",
              " 'stands': 94,\n",
              " 'fifty': 95,\n",
              " 'unless': 96,\n",
              " 'developing': 97,\n",
              " 'milestones': 98,\n",
              " 'among': 99,\n",
              " 'top': 100,\n",
              " 'nations': 101,\n",
              " 'terms': 102,\n",
              " 'gdp': 103,\n",
              " 'percent': 104,\n",
              " 'growth': 105,\n",
              " 'rate': 106,\n",
              " 'areas': 107,\n",
              " 'poverty': 108,\n",
              " 'levels': 109,\n",
              " 'falling': 110,\n",
              " 'achievements': 111,\n",
              " 'globally': 112,\n",
              " 'recognised': 113,\n",
              " 'today': 114,\n",
              " 'lack': 115,\n",
              " 'self-confidence': 116,\n",
              " 'self-reliant': 117,\n",
              " 'self-assured': 118,\n",
              " 'incorrect': 119,\n",
              " 'third': 120,\n",
              " 'stand': 121,\n",
              " 'time': 122}"
            ]
          },
          "metadata": {},
          "execution_count": 16
        }
      ]
    },
    {
      "cell_type": "code",
      "source": [
        "embedding_matrix = model.wv.vectors"
      ],
      "metadata": {
        "id": "NyOUZnDOUoO8"
      },
      "execution_count": 17,
      "outputs": []
    },
    {
      "cell_type": "code",
      "source": [
        "embedding_matrix"
      ],
      "metadata": {
        "id": "MtxCLEh7UqLv",
        "outputId": "3c18743b-f0f1-43a7-fe93-9555a9f6b1fb",
        "colab": {
          "base_uri": "https://localhost:8080/"
        }
      },
      "execution_count": 18,
      "outputs": [
        {
          "output_type": "execute_result",
          "data": {
            "text/plain": [
              "array([[-5.4059294e-04,  2.8702759e-04,  5.1420662e-03, ...,\n",
              "        -7.0635420e-03,  8.9675700e-04,  6.3677533e-03],\n",
              "       [-8.5940203e-03,  3.7575022e-03,  5.2502500e-03, ...,\n",
              "        -2.3534715e-03, -9.5351199e-03,  4.3793255e-03],\n",
              "       [ 9.4292649e-05,  3.0885313e-03, -6.8086283e-03, ...,\n",
              "         5.1787484e-04,  8.2049835e-03, -7.0299525e-03],\n",
              "       ...,\n",
              "       [ 8.7977471e-03, -2.2702930e-03,  4.3723010e-03, ...,\n",
              "         6.2255617e-03, -2.4047238e-03,  9.0513807e-03],\n",
              "       [-8.3833700e-03,  7.9898397e-03,  6.4259679e-03, ...,\n",
              "        -7.4522272e-03,  6.8071601e-03,  5.6472314e-03],\n",
              "       [-5.6387754e-03,  3.8240075e-03,  1.2600153e-03, ...,\n",
              "         9.5440540e-03, -9.7728651e-03, -8.9434078e-03]], dtype=float32)"
            ]
          },
          "metadata": {},
          "execution_count": 18
        }
      ]
    },
    {
      "cell_type": "code",
      "source": [
        "vector = model.wv['war']"
      ],
      "metadata": {
        "id": "2Vf3MlR5Rod2"
      },
      "execution_count": null,
      "outputs": []
    },
    {
      "cell_type": "code",
      "source": [
        "vector"
      ],
      "metadata": {
        "id": "zPoEbt6BR5rh"
      },
      "execution_count": null,
      "outputs": []
    },
    {
      "cell_type": "code",
      "source": [
        "similar = model.wv.most_similar('freedom')"
      ],
      "metadata": {
        "id": "DvOQG6WUR6bb"
      },
      "execution_count": null,
      "outputs": []
    },
    {
      "cell_type": "code",
      "source": [
        "similar"
      ],
      "metadata": {
        "id": "dVR7Z9bfSNGX"
      },
      "execution_count": null,
      "outputs": []
    },
    {
      "cell_type": "code",
      "source": [],
      "metadata": {
        "id": "1MqTu6-lSOE7"
      },
      "execution_count": null,
      "outputs": []
    }
  ]
}