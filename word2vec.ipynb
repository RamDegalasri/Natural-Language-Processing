{
  "nbformat": 4,
  "nbformat_minor": 0,
  "metadata": {
    "colab": {
      "provenance": [],
      "authorship_tag": "ABX9TyOZe3xEBiGdLRMADI1yS8zM",
      "include_colab_link": true
    },
    "kernelspec": {
      "name": "python3",
      "display_name": "Python 3"
    },
    "language_info": {
      "name": "python"
    }
  },
  "cells": [
    {
      "cell_type": "markdown",
      "metadata": {
        "id": "view-in-github",
        "colab_type": "text"
      },
      "source": [
        "<a href=\"https://colab.research.google.com/github/RamDegalasri/Natural-Language-Processing/blob/main/word2vec.ipynb\" target=\"_parent\"><img src=\"https://colab.research.google.com/assets/colab-badge.svg\" alt=\"Open In Colab\"/></a>"
      ]
    },
    {
      "cell_type": "code",
      "execution_count": 13,
      "metadata": {
        "id": "9vH178ShM1sV"
      },
      "outputs": [],
      "source": [
        "import nltk\n",
        "from gensim.models import Word2Vec\n",
        "from nltk.corpus import stopwords\n",
        "import re"
      ]
    },
    {
      "cell_type": "code",
      "source": [
        "nltk.download('punkt')\n",
        "nltk.download('stopwords')\n",
        "nltk.download('wordnet')"
      ],
      "metadata": {
        "colab": {
          "base_uri": "https://localhost:8080/"
        },
        "id": "eAYaf_zxN44j",
        "outputId": "63ef14e6-4e2f-4af9-be1b-b16f5d9a585a"
      },
      "execution_count": 14,
      "outputs": [
        {
          "output_type": "stream",
          "name": "stderr",
          "text": [
            "[nltk_data] Downloading package punkt to /root/nltk_data...\n",
            "[nltk_data]   Package punkt is already up-to-date!\n",
            "[nltk_data] Downloading package stopwords to /root/nltk_data...\n",
            "[nltk_data]   Package stopwords is already up-to-date!\n",
            "[nltk_data] Downloading package wordnet to /root/nltk_data...\n",
            "[nltk_data]   Package wordnet is already up-to-date!\n"
          ]
        },
        {
          "output_type": "execute_result",
          "data": {
            "text/plain": [
              "True"
            ]
          },
          "metadata": {},
          "execution_count": 14
        }
      ]
    },
    {
      "cell_type": "code",
      "source": [
        "text = \"\"\"I have three visions for India. In 3000 years of our history, people from all over\n",
        "               the world have come and invaded us, captured our lands, conquered our minds.\n",
        "               From Alexander onwards, the Greeks, the Turks, the Moguls, the Portuguese, the British,\n",
        "               the French, the Dutch, all of them came and looted us, took over what was ours.\n",
        "               Yet we have not done this to any other nation. We have not conquered anyone.\n",
        "               We have not grabbed their land, their culture,\n",
        "               their history and tried to enforce our way of life on them.\n",
        "               Why? Because we respect the freedom of others.That is why my\n",
        "               first vision is that of freedom. I believe that India got its first vision of\n",
        "               this in 1857, when we started the War of Independence. It is this freedom that\n",
        "               we must protect and nurture and build on. If we are not free, no one will respect us.\n",
        "               My second vision for India’s development. For fifty years we have been a developing nation.\n",
        "               It is time we see ourselves as a developed nation. We are among the top 5 nations of the world\n",
        "               in terms of GDP. We have a 10 percent growth rate in most areas. Our poverty levels are falling.\n",
        "               Our achievements are being globally recognised today. Yet we lack the self-confidence to\n",
        "               see ourselves as a developed nation, self-reliant and self-assured. Isn’t this incorrect?\n",
        "               I have a third vision. India must stand up to the world. Because I believe that unless India\n",
        "               stands up to the world, no one will respect us. Only strength respects strength. We must be\n",
        "               strong not only as a military power but also as an economic power. Both must go hand-in-hand.\n",
        "               My good fortune was to have worked with three great minds. Dr. Vikram Sarabhai of the Dept. of\n",
        "               space, Professor Satish Dhawan, who succeeded him and Dr. Brahm Prakash, father of nuclear material.\n",
        "               I was lucky to have worked with all three of them closely and consider this the great opportunity of my life.\n",
        "               I see four milestones in my career\"\"\""
      ],
      "metadata": {
        "id": "BSQM84j1N_HV"
      },
      "execution_count": 15,
      "outputs": []
    },
    {
      "cell_type": "code",
      "source": [
        "text = re.sub(r'\\[[0-9]*]', ' ', text)\n",
        "text = re.sub(r'\\s+', ' ', text)\n",
        "text = text.lower()\n",
        "text = re.sub(r'\\d', ' ', text)\n",
        "text = re.sub(r'\\s+', ' ', text)"
      ],
      "metadata": {
        "id": "hPiINuNBOIAa"
      },
      "execution_count": 16,
      "outputs": []
    },
    {
      "cell_type": "code",
      "source": [
        "text"
      ],
      "metadata": {
        "colab": {
          "base_uri": "https://localhost:8080/",
          "height": 143
        },
        "id": "CXQphhIxO0gS",
        "outputId": "4bf8e233-c75b-4890-99f7-fbbe7560338c"
      },
      "execution_count": 17,
      "outputs": [
        {
          "output_type": "execute_result",
          "data": {
            "text/plain": [
              "'i have three visions for india. in years of our history, people from all over the world have come and invaded us, captured our lands, conquered our minds. from alexander onwards, the greeks, the turks, the moguls, the portuguese, the british, the french, the dutch, all of them came and looted us, took over what was ours. yet we have not done this to any other nation. we have not conquered anyone. we have not grabbed their land, their culture, their history and tried to enforce our way of life on them. why? because we respect the freedom of others.that is why my first vision is that of freedom. i believe that india got its first vision of this in , when we started the war of independence. it is this freedom that we must protect and nurture and build on. if we are not free, no one will respect us. my second vision for india’s development. for fifty years we have been a developing nation. it is time we see ourselves as a developed nation. we are among the top nations of the world in terms of gdp. we have a percent growth rate in most areas. our poverty levels are falling. our achievements are being globally recognised today. yet we lack the self-confidence to see ourselves as a developed nation, self-reliant and self-assured. isn’t this incorrect? i have a third vision. india must stand up to the world. because i believe that unless india stands up to the world, no one will respect us. only strength respects strength. we must be strong not only as a military power but also as an economic power. both must go hand-in-hand. my good fortune was to have worked with three great minds. dr. vikram sarabhai of the dept. of space, professor satish dhawan, who succeeded him and dr. brahm prakash, father of nuclear material. i was lucky to have worked with all three of them closely and consider this the great opportunity of my life. i see four milestones in my career'"
            ],
            "application/vnd.google.colaboratory.intrinsic+json": {
              "type": "string"
            }
          },
          "metadata": {},
          "execution_count": 17
        }
      ]
    },
    {
      "cell_type": "code",
      "source": [
        "sentences = nltk.sent_tokenize(text)"
      ],
      "metadata": {
        "id": "gHUmYO6nPI8Q"
      },
      "execution_count": 18,
      "outputs": []
    },
    {
      "cell_type": "code",
      "source": [
        "sentences = [nltk.word_tokenize(sentence) for sentence in sentences]"
      ],
      "metadata": {
        "id": "1DMNI9VgPqBu"
      },
      "execution_count": 19,
      "outputs": []
    },
    {
      "cell_type": "code",
      "source": [
        "for i in range(len(sentences)):\n",
        "  sentences[i] = [word for word in sentences[i] if word not in stopwords.words('english')]"
      ],
      "metadata": {
        "id": "fTw9iorYQHZg"
      },
      "execution_count": 20,
      "outputs": []
    },
    {
      "cell_type": "code",
      "source": [
        "# sentences"
      ],
      "metadata": {
        "id": "SfBNCgAfQX_I"
      },
      "execution_count": 22,
      "outputs": []
    },
    {
      "cell_type": "code",
      "source": [
        "model = Word2Vec(sentences, min_count = 1)"
      ],
      "metadata": {
        "id": "f1sjxKEnQ7Eb"
      },
      "execution_count": 23,
      "outputs": []
    },
    {
      "cell_type": "code",
      "source": [
        "words = model.wv.index_to_key"
      ],
      "metadata": {
        "id": "n34ja46YRPpd"
      },
      "execution_count": 25,
      "outputs": []
    },
    {
      "cell_type": "code",
      "source": [
        "words"
      ],
      "metadata": {
        "colab": {
          "base_uri": "https://localhost:8080/"
        },
        "id": "FNpyb1mcRWxm",
        "outputId": "424b7419-06f4-44df-8102-99dbaa420914"
      },
      "execution_count": 26,
      "outputs": [
        {
          "output_type": "execute_result",
          "data": {
            "text/plain": [
              "['.',\n",
              " ',',\n",
              " 'india',\n",
              " 'vision',\n",
              " 'must',\n",
              " 'nation',\n",
              " 'world',\n",
              " 'us',\n",
              " 'three',\n",
              " 'freedom',\n",
              " 'respect',\n",
              " 'see',\n",
              " 'first',\n",
              " 'power',\n",
              " 'yet',\n",
              " '’',\n",
              " 'strength',\n",
              " 'worked',\n",
              " '?',\n",
              " 'life',\n",
              " 'believe',\n",
              " 'dr.',\n",
              " 'great',\n",
              " 'minds',\n",
              " 'one',\n",
              " 'years',\n",
              " 'history',\n",
              " 'developed',\n",
              " 'conquered',\n",
              " 'protect',\n",
              " 'others.that',\n",
              " 'war',\n",
              " 'nurture',\n",
              " 'independence',\n",
              " 'build',\n",
              " 'free',\n",
              " 'tried',\n",
              " 'got',\n",
              " 'started',\n",
              " 'way',\n",
              " 'enforce',\n",
              " 'took',\n",
              " 'culture',\n",
              " 'turks',\n",
              " 'visions',\n",
              " 'people',\n",
              " 'come',\n",
              " 'invaded',\n",
              " 'captured',\n",
              " 'lands',\n",
              " 'alexander',\n",
              " 'onwards',\n",
              " 'greeks',\n",
              " 'moguls',\n",
              " 'land',\n",
              " 'portuguese',\n",
              " 'british',\n",
              " 'french',\n",
              " 'dutch',\n",
              " 'came',\n",
              " 'looted',\n",
              " 'done',\n",
              " 'anyone',\n",
              " 'grabbed',\n",
              " 'second',\n",
              " 'career',\n",
              " 'development',\n",
              " 'respects',\n",
              " 'military',\n",
              " 'also',\n",
              " 'economic',\n",
              " 'go',\n",
              " 'hand-in-hand',\n",
              " 'good',\n",
              " 'fortune',\n",
              " 'vikram',\n",
              " 'sarabhai',\n",
              " 'dept',\n",
              " 'space',\n",
              " 'professor',\n",
              " 'satish',\n",
              " 'dhawan',\n",
              " 'succeeded',\n",
              " 'brahm',\n",
              " 'prakash',\n",
              " 'father',\n",
              " 'nuclear',\n",
              " 'material',\n",
              " 'lucky',\n",
              " 'closely',\n",
              " 'consider',\n",
              " 'opportunity',\n",
              " 'four',\n",
              " 'strong',\n",
              " 'stands',\n",
              " 'fifty',\n",
              " 'unless',\n",
              " 'developing',\n",
              " 'milestones',\n",
              " 'among',\n",
              " 'top',\n",
              " 'nations',\n",
              " 'terms',\n",
              " 'gdp',\n",
              " 'percent',\n",
              " 'growth',\n",
              " 'rate',\n",
              " 'areas',\n",
              " 'poverty',\n",
              " 'levels',\n",
              " 'falling',\n",
              " 'achievements',\n",
              " 'globally',\n",
              " 'recognised',\n",
              " 'today',\n",
              " 'lack',\n",
              " 'self-confidence',\n",
              " 'self-reliant',\n",
              " 'self-assured',\n",
              " 'incorrect',\n",
              " 'third',\n",
              " 'stand',\n",
              " 'time']"
            ]
          },
          "metadata": {},
          "execution_count": 26
        }
      ]
    },
    {
      "cell_type": "code",
      "source": [
        "vector = model.wv['war']"
      ],
      "metadata": {
        "id": "2Vf3MlR5Rod2"
      },
      "execution_count": 27,
      "outputs": []
    },
    {
      "cell_type": "code",
      "source": [
        "vector"
      ],
      "metadata": {
        "colab": {
          "base_uri": "https://localhost:8080/"
        },
        "id": "zPoEbt6BR5rh",
        "outputId": "a69df40b-d010-4f85-8863-d5ad1c37f2f8"
      },
      "execution_count": 28,
      "outputs": [
        {
          "output_type": "execute_result",
          "data": {
            "text/plain": [
              "array([-0.00219905, -0.00970885,  0.00929075,  0.00203636, -0.00116388,\n",
              "       -0.00551955, -0.0085126 , -0.00989383,  0.00894091, -0.00250522,\n",
              "        0.00459427, -0.00452481,  0.00995189,  0.00366171,  0.00103129,\n",
              "       -0.00403834,  0.00122027, -0.00265451,  0.00735284,  0.00447542,\n",
              "        0.00099955,  0.0034782 ,  0.00372712, -0.00680036,  0.00893243,\n",
              "        0.00173499, -0.00579935,  0.00866838, -0.00129286,  0.00818304,\n",
              "       -0.0014927 ,  0.00698649,  0.00273452, -0.00436226, -0.00374683,\n",
              "        0.00919046,  0.00159645, -0.00599784,  0.00034776, -0.00195135,\n",
              "        0.00159242, -0.00771525,  0.00738298,  0.00131083,  0.00787099,\n",
              "        0.00445568, -0.00439675,  0.00376054, -0.0006357 , -0.00984484,\n",
              "        0.00825004,  0.00964326,  0.00965426, -0.00379659, -0.00844202,\n",
              "        0.00483581, -0.00765107,  0.00853567,  0.00275977,  0.00560496,\n",
              "        0.00611362,  0.00046455, -0.00209463,  0.000778  ,  0.00983559,\n",
              "       -0.00711718, -0.00155743, -0.00235984,  0.00487084,  0.00645515,\n",
              "       -0.0041403 ,  0.00361816, -0.00447258,  0.00326611,  0.0081738 ,\n",
              "        0.00361967, -0.0045711 , -0.00301938,  0.00787179,  0.00959686,\n",
              "        0.00580789, -0.00326881, -0.00183876, -0.00624998, -0.00429521,\n",
              "        0.00336554, -0.00648911, -0.00661903,  0.00811393,  0.0095074 ,\n",
              "        0.00814451,  0.00150699, -0.00880124, -0.00759764,  0.0015789 ,\n",
              "       -0.00952675, -0.00741688,  0.00203283, -0.00292885, -0.00916266],\n",
              "      dtype=float32)"
            ]
          },
          "metadata": {},
          "execution_count": 28
        }
      ]
    },
    {
      "cell_type": "code",
      "source": [
        "similar = model.wv.most_similar('freedom')"
      ],
      "metadata": {
        "id": "DvOQG6WUR6bb"
      },
      "execution_count": 29,
      "outputs": []
    },
    {
      "cell_type": "code",
      "source": [
        "similar"
      ],
      "metadata": {
        "colab": {
          "base_uri": "https://localhost:8080/"
        },
        "id": "dVR7Z9bfSNGX",
        "outputId": "0feb058e-07ec-45bb-d1c7-f39f38fe0ee5"
      },
      "execution_count": 30,
      "outputs": [
        {
          "output_type": "execute_result",
          "data": {
            "text/plain": [
              "[('unless', 0.2513527274131775),\n",
              " ('moguls', 0.2480589896440506),\n",
              " ('.', 0.2167753130197525),\n",
              " ('visions', 0.21363484859466553),\n",
              " ('development', 0.20419523119926453),\n",
              " ('turks', 0.16215139627456665),\n",
              " ('self-confidence', 0.1557946503162384),\n",
              " ('father', 0.15303698182106018),\n",
              " ('areas', 0.14788691699504852),\n",
              " ('falling', 0.1441386640071869)]"
            ]
          },
          "metadata": {},
          "execution_count": 30
        }
      ]
    },
    {
      "cell_type": "code",
      "source": [],
      "metadata": {
        "id": "1MqTu6-lSOE7"
      },
      "execution_count": null,
      "outputs": []
    }
  ]
}