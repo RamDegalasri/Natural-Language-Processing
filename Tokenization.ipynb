{
  "nbformat": 4,
  "nbformat_minor": 0,
  "metadata": {
    "colab": {
      "provenance": [],
      "authorship_tag": "ABX9TyPKqjAwFywnAvQoYIj1Ra2R",
      "include_colab_link": true
    },
    "kernelspec": {
      "name": "python3",
      "display_name": "Python 3"
    },
    "language_info": {
      "name": "python"
    }
  },
  "cells": [
    {
      "cell_type": "markdown",
      "metadata": {
        "id": "view-in-github",
        "colab_type": "text"
      },
      "source": [
        "<a href=\"https://colab.research.google.com/github/RamDegalasri/Natural-Language-Processing/blob/main/Tokenization.ipynb\" target=\"_parent\"><img src=\"https://colab.research.google.com/assets/colab-badge.svg\" alt=\"Open In Colab\"/></a>"
      ]
    },
    {
      "cell_type": "code",
      "execution_count": null,
      "metadata": {
        "id": "dtNQ_hBDQoRq"
      },
      "outputs": [],
      "source": [
        "import nltk"
      ]
    },
    {
      "cell_type": "code",
      "source": [
        "nltk.download('punkt')"
      ],
      "metadata": {
        "colab": {
          "base_uri": "https://localhost:8080/"
        },
        "id": "5g80sZ4vSAwB",
        "outputId": "319c1e6b-1335-4cae-a80d-be7e9b0a4204"
      },
      "execution_count": null,
      "outputs": [
        {
          "output_type": "stream",
          "name": "stderr",
          "text": [
            "[nltk_data] Downloading package punkt to /root/nltk_data...\n",
            "[nltk_data]   Unzipping tokenizers/punkt.zip.\n"
          ]
        },
        {
          "output_type": "execute_result",
          "data": {
            "text/plain": [
              "True"
            ]
          },
          "metadata": {},
          "execution_count": 2
        }
      ]
    },
    {
      "cell_type": "code",
      "source": [
        "text = \"\"\" You are a passionate and driven data scientist with a background in both academia and industry.\n",
        "           With a Master’s in Data Science from Stevens Institute of Technology and hands-on experience as a Data Science Intern at IBM, you’ve worked on cutting-edge projects involving AI, machine learning, and data analytics.\n",
        "           In your career, you’ve explored diverse areas such as fraud prevention, marketing analytics, and space-related AI research.\n",
        "           You are also a co-founder and former CTO of a startup, where you honed your technical and leadership skills. Currently, you're delving into complex challenges like sales forecasting at Panasonic, leveraging LSTM models and economic data analysis, while also exploring the fascinating world of generative AI.\n",
        "           Your diverse interests in object tracking, web mining, and NLP showcase your multifaceted expertise and relentless curiosity. \"\"\""
      ],
      "metadata": {
        "id": "AXl1gGaYQwPh"
      },
      "execution_count": null,
      "outputs": []
    },
    {
      "cell_type": "code",
      "source": [
        "print(text)"
      ],
      "metadata": {
        "colab": {
          "base_uri": "https://localhost:8080/"
        },
        "id": "ybIfjC9vROIN",
        "outputId": "d15a5048-a83f-4940-924e-f082e5e30f14"
      },
      "execution_count": null,
      "outputs": [
        {
          "output_type": "stream",
          "name": "stdout",
          "text": [
            " You are a passionate and driven data scientist with a background in both academia and industry. \n",
            "           With a Master’s in Data Science from Stevens Institute of Technology and hands-on experience as a Data Science Intern at IBM, you’ve worked on cutting-edge projects involving AI, machine learning, and data analytics. \n",
            "           In your career, you’ve explored diverse areas such as fraud prevention, marketing analytics, and space-related AI research. \n",
            "           You are also a co-founder and former CTO of a startup, where you honed your technical and leadership skills. Currently, you're delving into complex challenges like sales forecasting at Panasonic, leveraging LSTM models and economic data analysis, while also exploring the fascinating world of generative AI. \n",
            "           Your diverse interests in object tracking, web mining, and NLP showcase your multifaceted expertise and relentless curiosity. \n"
          ]
        }
      ]
    },
    {
      "cell_type": "code",
      "source": [
        "words = nltk.word_tokenize(text)"
      ],
      "metadata": {
        "id": "zYsL3uF5RmfU"
      },
      "execution_count": null,
      "outputs": []
    },
    {
      "cell_type": "code",
      "source": [
        "words"
      ],
      "metadata": {
        "colab": {
          "base_uri": "https://localhost:8080/"
        },
        "id": "3x3OMKjOR-On",
        "outputId": "6271ae84-1663-452a-a458-ac10846c49d1"
      },
      "execution_count": null,
      "outputs": [
        {
          "output_type": "execute_result",
          "data": {
            "text/plain": [
              "['You',\n",
              " 'are',\n",
              " 'a',\n",
              " 'passionate',\n",
              " 'and',\n",
              " 'driven',\n",
              " 'data',\n",
              " 'scientist',\n",
              " 'with',\n",
              " 'a',\n",
              " 'background',\n",
              " 'in',\n",
              " 'both',\n",
              " 'academia',\n",
              " 'and',\n",
              " 'industry',\n",
              " '.',\n",
              " 'With',\n",
              " 'a',\n",
              " 'Master',\n",
              " '’',\n",
              " 's',\n",
              " 'in',\n",
              " 'Data',\n",
              " 'Science',\n",
              " 'from',\n",
              " 'Stevens',\n",
              " 'Institute',\n",
              " 'of',\n",
              " 'Technology',\n",
              " 'and',\n",
              " 'hands-on',\n",
              " 'experience',\n",
              " 'as',\n",
              " 'a',\n",
              " 'Data',\n",
              " 'Science',\n",
              " 'Intern',\n",
              " 'at',\n",
              " 'IBM',\n",
              " ',',\n",
              " 'you',\n",
              " '’',\n",
              " 've',\n",
              " 'worked',\n",
              " 'on',\n",
              " 'cutting-edge',\n",
              " 'projects',\n",
              " 'involving',\n",
              " 'AI',\n",
              " ',',\n",
              " 'machine',\n",
              " 'learning',\n",
              " ',',\n",
              " 'and',\n",
              " 'data',\n",
              " 'analytics',\n",
              " '.',\n",
              " 'In',\n",
              " 'your',\n",
              " 'career',\n",
              " ',',\n",
              " 'you',\n",
              " '’',\n",
              " 've',\n",
              " 'explored',\n",
              " 'diverse',\n",
              " 'areas',\n",
              " 'such',\n",
              " 'as',\n",
              " 'fraud',\n",
              " 'prevention',\n",
              " ',',\n",
              " 'marketing',\n",
              " 'analytics',\n",
              " ',',\n",
              " 'and',\n",
              " 'space-related',\n",
              " 'AI',\n",
              " 'research',\n",
              " '.',\n",
              " 'You',\n",
              " 'are',\n",
              " 'also',\n",
              " 'a',\n",
              " 'co-founder',\n",
              " 'and',\n",
              " 'former',\n",
              " 'CTO',\n",
              " 'of',\n",
              " 'a',\n",
              " 'startup',\n",
              " ',',\n",
              " 'where',\n",
              " 'you',\n",
              " 'honed',\n",
              " 'your',\n",
              " 'technical',\n",
              " 'and',\n",
              " 'leadership',\n",
              " 'skills',\n",
              " '.',\n",
              " 'Currently',\n",
              " ',',\n",
              " 'you',\n",
              " \"'re\",\n",
              " 'delving',\n",
              " 'into',\n",
              " 'complex',\n",
              " 'challenges',\n",
              " 'like',\n",
              " 'sales',\n",
              " 'forecasting',\n",
              " 'at',\n",
              " 'Panasonic',\n",
              " ',',\n",
              " 'leveraging',\n",
              " 'LSTM',\n",
              " 'models',\n",
              " 'and',\n",
              " 'economic',\n",
              " 'data',\n",
              " 'analysis',\n",
              " ',',\n",
              " 'while',\n",
              " 'also',\n",
              " 'exploring',\n",
              " 'the',\n",
              " 'fascinating',\n",
              " 'world',\n",
              " 'of',\n",
              " 'generative',\n",
              " 'AI',\n",
              " '.',\n",
              " 'Your',\n",
              " 'diverse',\n",
              " 'interests',\n",
              " 'in',\n",
              " 'object',\n",
              " 'tracking',\n",
              " ',',\n",
              " 'web',\n",
              " 'mining',\n",
              " ',',\n",
              " 'and',\n",
              " 'NLP',\n",
              " 'showcase',\n",
              " 'your',\n",
              " 'multifaceted',\n",
              " 'expertise',\n",
              " 'and',\n",
              " 'relentless',\n",
              " 'curiosity',\n",
              " '.']"
            ]
          },
          "metadata": {},
          "execution_count": 6
        }
      ]
    },
    {
      "cell_type": "code",
      "source": [],
      "metadata": {
        "id": "EWKFlXaSSbPF"
      },
      "execution_count": null,
      "outputs": []
    }
  ]
}